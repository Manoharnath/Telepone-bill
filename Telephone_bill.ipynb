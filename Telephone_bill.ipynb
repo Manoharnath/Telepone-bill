{
  "nbformat": 4,
  "nbformat_minor": 0,
  "metadata": {
    "colab": {
      "provenance": [],
      "authorship_tag": "ABX9TyOeZIkvTPB/cUHvaMuuywfo",
      "include_colab_link": true
    },
    "kernelspec": {
      "name": "python3",
      "display_name": "Python 3"
    },
    "language_info": {
      "name": "python"
    }
  },
  "cells": [
    {
      "cell_type": "markdown",
      "metadata": {
        "id": "view-in-github",
        "colab_type": "text"
      },
      "source": [
        "<a href=\"https://colab.research.google.com/github/Manoharnath/Telepone-bill/blob/main/Telephone_bill.ipynb\" target=\"_parent\"><img src=\"https://colab.research.google.com/assets/colab-badge.svg\" alt=\"Open In Colab\"/></a>"
      ]
    },
    {
      "cell_type": "code",
      "execution_count": 1,
      "metadata": {
        "colab": {
          "base_uri": "https://localhost:8080/"
        },
        "id": "rF1hUB6Z6ta9",
        "outputId": "be8aacbc-8e6d-45f2-aa99-f3d6ab33fcf0"
      },
      "outputs": [
        {
          "output_type": "stream",
          "name": "stdout",
          "text": [
            "Enter number of calls: 200\n",
            "Total bill amount is 255.0\n"
          ]
        }
      ],
      "source": [
        "calls = int(input(\"Enter number of calls: \"))\n",
        "\n",
        "if calls <= 100:\n",
        "    bill = 200\n",
        "elif calls > 100 and calls <= 150:\n",
        "    calls = calls - 100\n",
        "    bill = 200 + (0.60 * calls)\n",
        "elif calls > 150 and calls <= 200:\n",
        "    calls = calls - 150\n",
        "    bill = 200 + (0.60 * 50) + (0.50 * calls)\n",
        "else:\n",
        "    calls = calls - 200\n",
        "    bill = 200 + (0.60 * 50) + (0.50 * 50) + (0.40 * calls)\n",
        "\n",
        "print(\"Total bill amount is\", bill)"
      ]
    }
  ]
}